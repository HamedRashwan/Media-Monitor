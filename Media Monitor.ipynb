{
 "cells": [
  {
   "cell_type": "code",
   "execution_count": 1,
   "metadata": {},
   "outputs": [],
   "source": [
    "import requests\n",
    "from bs4 import BeautifulSoup\n",
    "import nltk\n",
    "from nltk.tokenize import word_tokenize\n",
    "from nltk.corpus import stopwords\n",
    "from nltk.stem import WordNetLemmatizer\n",
    "from collections import Counter\n",
    "from textblob import TextBlob"
   ]
  },
  {
   "cell_type": "code",
   "execution_count": 2,
   "metadata": {},
   "outputs": [
    {
     "name": "stderr",
     "output_type": "stream",
     "text": [
      "[nltk_data] Downloading package punkt to\n",
      "[nltk_data]     C:\\Users\\Hamed\\AppData\\Roaming\\nltk_data...\n",
      "[nltk_data]   Package punkt is already up-to-date!\n",
      "[nltk_data] Downloading package stopwords to\n",
      "[nltk_data]     C:\\Users\\Hamed\\AppData\\Roaming\\nltk_data...\n",
      "[nltk_data]   Package stopwords is already up-to-date!\n",
      "[nltk_data] Downloading package wordnet to\n",
      "[nltk_data]     C:\\Users\\Hamed\\AppData\\Roaming\\nltk_data...\n",
      "[nltk_data]   Package wordnet is already up-to-date!\n"
     ]
    },
    {
     "data": {
      "text/plain": [
       "True"
      ]
     },
     "execution_count": 2,
     "metadata": {},
     "output_type": "execute_result"
    }
   ],
   "source": [
    "# Download NLTK resources\n",
    "nltk.download('punkt')\n",
    "nltk.download('stopwords')\n",
    "nltk.download('wordnet')"
   ]
  },
  {
   "cell_type": "code",
   "execution_count": 3,
   "metadata": {},
   "outputs": [],
   "source": [
    "# Function to scrape and extract text from a news article\n",
    "def scrape_article(url):\n",
    "    response = requests.get(url)\n",
    "    soup = BeautifulSoup(response.text, 'html.parser')\n",
    "    paragraphs = soup.find_all(input(\"Choose Your Tag... \"))\n",
    "    text = ' '.join([p.get_text() for p in paragraphs])\n",
    "    return text"
   ]
  },
  {
   "cell_type": "code",
   "execution_count": 4,
   "metadata": {},
   "outputs": [],
   "source": [
    "# Function to preprocess text\n",
    "def preprocess_text(text):\n",
    "    tokens = word_tokenize(text.lower())\n",
    "    stop_words = set(stopwords.words('english'))\n",
    "    tokens = [token for token in tokens if token.isalnum() and token not in stop_words]\n",
    "    lemmatizer = WordNetLemmatizer()\n",
    "    tokens = [lemmatizer.lemmatize(token) for token in tokens]\n",
    "    return tokens"
   ]
  },
  {
   "cell_type": "code",
   "execution_count": 5,
   "metadata": {},
   "outputs": [],
   "source": [
    "# Function to analyze sentiment\n",
    "def analyze_sentiment(text):\n",
    "    blob = TextBlob(text)\n",
    "    sentiment_score = blob.sentiment.polarity\n",
    "    if sentiment_score > 0:\n",
    "        return 'Positive'\n",
    "    elif sentiment_score < 0:\n",
    "        return 'Negative'\n",
    "    else:\n",
    "        return 'Neutral'"
   ]
  },
  {
   "cell_type": "code",
   "execution_count": 6,
   "metadata": {},
   "outputs": [
    {
     "name": "stdout",
     "output_type": "stream",
     "text": [
      "Article Text:  Browse Jobs For Employers Post Job Log in Get Started  Email & Chat Account II B1+ English Speakers - Maadi Etisalat Egypt - Full Time On-site Entry Level  · Customer Service/Support  · English  · Benefits  · excel  · Excellent english  · Excellent  · Insurance  · Microsoft Excel  · Medical  · social Medical tape coating Technical operator National medical supply - Full Time On-site Experienced  · Manufacturing/Production  · Coating  · Medical  Sales Manager Auto MAHMOUD HAMAD - Full Time On-site Manager  · Administration  · Sales/Retail  · Sales Manager  · sales skills  · Sales  · People Management  · Administration  · Management  Patient Relation Officer LMS - Part Time Shift Based On-site Experienced  · Medical/Healthcare  · Medical  · Analytical Chemistry  · Lab Analysis  Sales Executive Ellithy Group - Full Time On-site Entry Level  · Customer Service/Support  · Sales/Retail  · CRM  · CRM Software  · Customer Service  · Sales  · Sales Executive  · sales skills  · Sales Target Sales Manager ALWAN AL ALBARQ  - Full Time On-site Manager  · Sales/Retail  · Sales  · Packaging  · sales skills  · Industry  · Sales Target  · Customer Service  Frontend Developer Equivator - Full Time Remote Experienced  · IT/Software Development  · Angular  · React  · JavaScript  · Flutter  · Typescript  · HTML Senior Cloud Software Engineer Outvise - Full Time Experienced  · IT/Software Development  · Quality  · Engineering - Telecom/Technology  · Information Technology (IT)  · Computer Science  · Software Engineering  · Software Development  · Engineering  · Software Testing  · Quality Control  chat & Mails account|Etisalat UAE |Fluency in English Etisalat Egypt - Full Time On-site Entry Level  · Administration  · Customer Service/Support  · Operations/Management  · Customer Service  · Customer Support  · Customer Care  · Customer Relations  · Custom Clearance  · 888  · fluency  Backend Developer Equivator - Full Time Remote Experienced  · IT/Software Development  · backend  · JavaScript  · Node.js  · Azure  · Typescript  Customs Clearance Specialist MINISO LIFE - Full Time On-site Experienced  · Business Development  · Logistics/Supply Chain  · Sales/Retail  · clearance  · Customs  · Customs Clearance  · MS Office  · Logistics  · Supply Chain  · English  Customer Success Lead Sylndr - Full Time On-site Experienced  · Customer Service/Support  · business  · Communication  · Customer Care  · CRM  · Customer Service  · Customer Success  · Customer Support  · Leadership  · Management  English Speakers Vacancy - Vodafone Ireland - WFH opportunity _VOIS Egypt - Full Time Shift Based Remote Entry Level  · Customer Service/Support  · Customer Service  · Customer Care  · Customer Support  · Call Center  · Technical Support  · Customer Satisfaction  · Time Management  · Career Development  · Fluency in English  National Sales Manager Next Gen Supplements  - Full Time On-site Manager  · Customer Service/Support  · Operations/Management  · Sales/Retail  · Sales  · Sales Target  · MBA  · Customer Service  · Communication skills  · Budget Management  · Outdoor Sales  Sales Designer Creative Closets - Full Time On-site Experienced  · Creative/Design/Art  · Sales/Retail  · Designer  · Dressing Rooms  · Kitchen Accounting/Finance Administration Analyst/Research Android Jobs Banking Business Development C-Level Executive/GM/Director Creative/Design/Art Customer Service/Support Education/Teaching Engineering - Construction/Civil/Architecture Engineering - Mechanical/Electrical Engineering - Oil & Gas/Energy Engineering - Other Engineering - Telecom/Technology Fashion Hospitality/Hotels/Food Services Human Resources IT/Software Development Installation/Maintenance/Repair Internships in Egypt Legal Logistics/Supply Chain Manufacturing/Production Marketing/PR/Advertising Media/Journalism/Publishing Medical/Healthcare Operations/Management Pharmaceutical Project/Program Management Purchasing/Procurement Quality R&D/Science Sales/Retail Sports and Leisure Startup Jobs Strategy/Consulting Tourism/Travel Training/Instructor Writing/Editorial Jobs in Cairo Jobs in Giza Jobs in Dubai Jobs in Riyadh Jobs in Alexandria Jobs in Doha Jobs in Kuwait City Jobs in Makkah Jobs in Sharqia Jobs in Monufya Jobs in Jeddah Jobs in Qalubia Jobs in Dakahlia Jobs in Gharbia Jobs in Suez Jobs in Red Sea Jobs in Tabuk Jobs in Abu Dhabi Jobs in Beheira Jobs in Matruh Jobs in Beni Suef Jobs in Al Rayyan Jobs in South Sinai Jobs in Damietta Jobs in Minya Jobs in New Cairo Jobs in Maadi Jobs in Nasr City Jobs in 6th of October Jobs in Heliopolis Jobs in Sheikh Zayed Jobs in Sheraton Jobs in Mohandessin Jobs in Dokki Jobs in Obour City Jobs in 10th of Ramadan City Jobs in 10th of Ramadan City Jobs in Mokattam Jobs in Downtown Jobs in Haram Jobs in Madinaty Jobs in New Capital Jobs in Smart Village Jobs in Katameya Jobs in Bourj Alarab Jobs in Abu Rawash Jobs in Shorouk City Jobs in Zamalek Jobs in Ameria Jobs in New Nozha  RECRUITMENT SERVICES. a b c d e f g h i j k l m n o p q r s t u v w x y z # Blog About Us Recruitment Services RSS Jobs in Saudi Arabia Jobs in UAE Job Descriptions Partners Sitemap Contact Us Privacy, Cookies, Terms & Conditions وظائف مصر     BasharSoft LLC.\n",
      "Preprocessed Text: ['browse', 'job', 'employer', 'post', 'job', 'log', 'get', 'started', 'email', 'chat', 'account', 'ii', 'english', 'speaker', 'maadi', 'etisalat', 'egypt', 'full', 'time', 'entry', 'level', 'customer', 'english', 'benefit', 'excel', 'excellent', 'english', 'excellent', 'insurance', 'microsoft', 'excel', 'medical', 'social', 'medical', 'tape', 'coating', 'technical', 'operator', 'national', 'medical', 'supply', 'full', 'time', 'experienced', 'coating', 'medical', 'sale', 'manager', 'auto', 'mahmoud', 'hamad', 'full', 'time', 'manager', 'administration', 'sale', 'manager', 'sale', 'skill', 'sale', 'people', 'management', 'administration', 'management', 'patient', 'relation', 'officer', 'lm', 'part', 'time', 'shift', 'based', 'experienced', 'medical', 'analytical', 'chemistry', 'lab', 'analysis', 'sale', 'executive', 'ellithy', 'group', 'full', 'time', 'entry', 'level', 'customer', 'crm', 'crm', 'software', 'customer', 'service', 'sale', 'sale', 'executive', 'sale', 'skill', 'sale', 'target', 'sale', 'manager', 'alwan', 'al', 'albarq', 'full', 'time', 'manager', 'sale', 'packaging', 'sale', 'skill', 'industry', 'sale', 'target', 'customer', 'service', 'frontend', 'developer', 'equivator', 'full', 'time', 'remote', 'experienced', 'development', 'angular', 'react', 'javascript', 'flutter', 'typescript', 'html', 'senior', 'cloud', 'software', 'engineer', 'outvise', 'full', 'time', 'experienced', 'development', 'quality', 'engineering', 'information', 'technology', 'computer', 'science', 'software', 'engineering', 'software', 'development', 'engineering', 'software', 'testing', 'quality', 'control', 'chat', 'mail', 'uae', 'english', 'etisalat', 'egypt', 'full', 'time', 'entry', 'level', 'administration', 'customer', 'customer', 'service', 'customer', 'support', 'customer', 'care', 'customer', 'relation', 'custom', 'clearance', '888', 'fluency', 'backend', 'developer', 'equivator', 'full', 'time', 'remote', 'experienced', 'development', 'backend', 'javascript', 'azure', 'typescript', 'custom', 'clearance', 'specialist', 'miniso', 'life', 'full', 'time', 'experienced', 'business', 'development', 'chain', 'clearance', 'custom', 'custom', 'clearance', 'm', 'office', 'logistics', 'supply', 'chain', 'english', 'customer', 'success', 'lead', 'sylndr', 'full', 'time', 'experienced', 'customer', 'business', 'communication', 'customer', 'care', 'crm', 'customer', 'service', 'customer', 'success', 'customer', 'support', 'leadership', 'management', 'english', 'speaker', 'vacancy', 'vodafone', 'ireland', 'wfh', 'opportunity', 'egypt', 'full', 'time', 'shift', 'based', 'remote', 'entry', 'level', 'customer', 'customer', 'service', 'customer', 'care', 'customer', 'support', 'call', 'center', 'technical', 'support', 'customer', 'satisfaction', 'time', 'management', 'career', 'development', 'fluency', 'english', 'national', 'sale', 'manager', 'next', 'gen', 'supplement', 'full', 'time', 'manager', 'customer', 'sale', 'sale', 'target', 'mba', 'customer', 'service', 'communication', 'skill', 'budget', 'management', 'outdoor', 'sale', 'sale', 'designer', 'creative', 'closet', 'full', 'time', 'experienced', 'designer', 'dressing', 'room', 'kitchen', 'administration', 'android', 'job', 'banking', 'business', 'development', 'customer', 'engineering', 'engineering', 'engineering', 'oil', 'engineering', 'engineering', 'fashion', 'service', 'human', 'resource', 'development', 'internship', 'egypt', 'legal', 'chain', 'pharmaceutical', 'management', 'quality', 'r', 'sport', 'leisure', 'startup', 'job', 'job', 'cairo', 'job', 'giza', 'job', 'dubai', 'job', 'riyadh', 'job', 'alexandria', 'job', 'doha', 'job', 'kuwait', 'city', 'job', 'makkah', 'job', 'sharqia', 'job', 'monufya', 'job', 'jeddah', 'job', 'qalubia', 'job', 'dakahlia', 'job', 'gharbia', 'job', 'suez', 'job', 'red', 'sea', 'job', 'tabuk', 'job', 'abu', 'dhabi', 'job', 'beheira', 'job', 'matruh', 'job', 'beni', 'suef', 'job', 'al', 'rayyan', 'job', 'south', 'sinai', 'job', 'damietta', 'job', 'minya', 'job', 'new', 'cairo', 'job', 'maadi', 'job', 'nasr', 'city', 'job', '6th', 'october', 'job', 'heliopolis', 'job', 'sheikh', 'zayed', 'job', 'sheraton', 'job', 'mohandessin', 'job', 'dokki', 'job', 'obour', 'city', 'job', '10th', 'ramadan', 'city', 'job', '10th', 'ramadan', 'city', 'job', 'mokattam', 'job', 'downtown', 'job', 'haram', 'job', 'madinaty', 'job', 'new', 'capital', 'job', 'smart', 'village', 'job', 'katameya', 'job', 'bourj', 'alarab', 'job', 'abu', 'rawash', 'job', 'shorouk', 'city', 'job', 'zamalek', 'job', 'ameria', 'job', 'new', 'nozha', 'recruitment', 'service', 'b', 'c', 'e', 'f', 'g', 'h', 'j', 'k', 'l', 'n', 'p', 'q', 'r', 'u', 'v', 'w', 'x', 'z', 'blog', 'u', 'recruitment', 'service', 'r', 'job', 'saudi', 'arabia', 'job', 'uae', 'job', 'description', 'partner', 'sitemap', 'contact', 'u', 'privacy', 'cooky', 'term', 'condition', 'وظائف', 'مصر', 'basharsoft', 'llc']\n",
      "Sentiment: Positive\n"
     ]
    }
   ],
   "source": [
    "# Input URL\n",
    "url = input('Enter Your URL --> ')\n",
    "article_text = scrape_article(url)\n",
    "preprocessed_text = preprocess_text(article_text)\n",
    "sentiment = analyze_sentiment(article_text)\n",
    "\n",
    "print(\"Article Text:\", article_text)\n",
    "print(\"Preprocessed Text:\", preprocessed_text)\n",
    "print(\"Sentiment:\", sentiment)"
   ]
  }
 ],
 "metadata": {
  "kernelspec": {
   "display_name": "Python 3",
   "language": "python",
   "name": "python3"
  },
  "language_info": {
   "codemirror_mode": {
    "name": "ipython",
    "version": 3
   },
   "file_extension": ".py",
   "mimetype": "text/x-python",
   "name": "python",
   "nbconvert_exporter": "python",
   "pygments_lexer": "ipython3",
   "version": "3.11.3"
  }
 },
 "nbformat": 4,
 "nbformat_minor": 2
}
